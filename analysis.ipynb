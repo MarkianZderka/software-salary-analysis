{
 "cells": [
  {
   "cell_type": "markdown",
   "id": "b252f99a-bcaf-47ed-a6d4-ee86bbbb2244",
   "metadata": {},
   "source": [
    "# Importing Libraries"
   ]
  },
  {
   "cell_type": "code",
   "execution_count": 1,
   "id": "24be2158-8176-4d00-b874-6297a105aa21",
   "metadata": {},
   "outputs": [],
   "source": [
    "import pandas as pd\n",
    "import numpy as np\n",
    "import matplotlib.pyplot as plt\n",
    "import seaborn as sns"
   ]
  },
  {
   "cell_type": "markdown",
   "id": "fb834450-cc33-4cff-834f-6338f0f30438",
   "metadata": {},
   "source": [
    "## Initial Data Exploration"
   ]
  },
  {
   "cell_type": "code",
   "execution_count": 2,
   "id": "9c807661-b430-4d6a-9259-d7499ccaa5c4",
   "metadata": {},
   "outputs": [],
   "source": [
    "# Loading the dataset\n",
    "df = pd.read_csv('Salary_Dataset_with_Extra_Features.csv')"
   ]
  },
  {
   "cell_type": "code",
   "execution_count": 3,
   "id": "80f222d8-1e39-459b-ae0c-5c11d09ccff7",
   "metadata": {},
   "outputs": [
    {
     "data": {
      "text/plain": [
       "(22770, 8)"
      ]
     },
     "execution_count": 3,
     "metadata": {},
     "output_type": "execute_result"
    }
   ],
   "source": [
    "df.shape"
   ]
  },
  {
   "cell_type": "code",
   "execution_count": 4,
   "id": "1f279b97-0537-4579-b8dc-b18dfa60bce0",
   "metadata": {},
   "outputs": [
    {
     "data": {
      "text/html": [
       "<div>\n",
       "<style scoped>\n",
       "    .dataframe tbody tr th:only-of-type {\n",
       "        vertical-align: middle;\n",
       "    }\n",
       "\n",
       "    .dataframe tbody tr th {\n",
       "        vertical-align: top;\n",
       "    }\n",
       "\n",
       "    .dataframe thead th {\n",
       "        text-align: right;\n",
       "    }\n",
       "</style>\n",
       "<table border=\"1\" class=\"dataframe\">\n",
       "  <thead>\n",
       "    <tr style=\"text-align: right;\">\n",
       "      <th></th>\n",
       "      <th>Rating</th>\n",
       "      <th>Company Name</th>\n",
       "      <th>Job Title</th>\n",
       "      <th>Salary</th>\n",
       "      <th>Salaries Reported</th>\n",
       "      <th>Location</th>\n",
       "      <th>Employment Status</th>\n",
       "      <th>Job Roles</th>\n",
       "    </tr>\n",
       "  </thead>\n",
       "  <tbody>\n",
       "    <tr>\n",
       "      <th>0</th>\n",
       "      <td>3.8</td>\n",
       "      <td>Sasken</td>\n",
       "      <td>Android Developer</td>\n",
       "      <td>400000</td>\n",
       "      <td>3</td>\n",
       "      <td>Bangalore</td>\n",
       "      <td>Full Time</td>\n",
       "      <td>Android</td>\n",
       "    </tr>\n",
       "    <tr>\n",
       "      <th>1</th>\n",
       "      <td>4.5</td>\n",
       "      <td>Advanced Millennium Technologies</td>\n",
       "      <td>Android Developer</td>\n",
       "      <td>400000</td>\n",
       "      <td>3</td>\n",
       "      <td>Bangalore</td>\n",
       "      <td>Full Time</td>\n",
       "      <td>Android</td>\n",
       "    </tr>\n",
       "    <tr>\n",
       "      <th>2</th>\n",
       "      <td>4.0</td>\n",
       "      <td>Unacademy</td>\n",
       "      <td>Android Developer</td>\n",
       "      <td>1000000</td>\n",
       "      <td>3</td>\n",
       "      <td>Bangalore</td>\n",
       "      <td>Full Time</td>\n",
       "      <td>Android</td>\n",
       "    </tr>\n",
       "  </tbody>\n",
       "</table>\n",
       "</div>"
      ],
      "text/plain": [
       "   Rating                      Company Name          Job Title   Salary  \\\n",
       "0     3.8                            Sasken  Android Developer   400000   \n",
       "1     4.5  Advanced Millennium Technologies  Android Developer   400000   \n",
       "2     4.0                         Unacademy  Android Developer  1000000   \n",
       "\n",
       "   Salaries Reported   Location Employment Status Job Roles  \n",
       "0                  3  Bangalore         Full Time   Android  \n",
       "1                  3  Bangalore         Full Time   Android  \n",
       "2                  3  Bangalore         Full Time   Android  "
      ]
     },
     "execution_count": 4,
     "metadata": {},
     "output_type": "execute_result"
    }
   ],
   "source": [
    "df.head(3)"
   ]
  },
  {
   "cell_type": "code",
   "execution_count": 5,
   "id": "e659232c-326c-462d-ad65-0bd427adf85c",
   "metadata": {},
   "outputs": [
    {
     "name": "stdout",
     "output_type": "stream",
     "text": [
      "<class 'pandas.core.frame.DataFrame'>\n",
      "RangeIndex: 22770 entries, 0 to 22769\n",
      "Data columns (total 8 columns):\n",
      " #   Column             Non-Null Count  Dtype  \n",
      "---  ------             --------------  -----  \n",
      " 0   Rating             22770 non-null  float64\n",
      " 1   Company Name       22769 non-null  object \n",
      " 2   Job Title          22770 non-null  object \n",
      " 3   Salary             22770 non-null  int64  \n",
      " 4   Salaries Reported  22770 non-null  int64  \n",
      " 5   Location           22770 non-null  object \n",
      " 6   Employment Status  22770 non-null  object \n",
      " 7   Job Roles          22770 non-null  object \n",
      "dtypes: float64(1), int64(2), object(5)\n",
      "memory usage: 1.4+ MB\n"
     ]
    }
   ],
   "source": [
    "df.info()"
   ]
  },
  {
   "cell_type": "code",
   "execution_count": 6,
   "id": "3e527b8f-5691-4f85-91fd-ce6268da93ed",
   "metadata": {},
   "outputs": [
    {
     "data": {
      "text/plain": [
       "<bound method NDFrame.describe of 0         400000\n",
       "1         400000\n",
       "2        1000000\n",
       "3         300000\n",
       "4         600000\n",
       "          ...   \n",
       "22765     200000\n",
       "22766     300000\n",
       "22767     192000\n",
       "22768     300000\n",
       "22769     300000\n",
       "Name: Salary, Length: 22770, dtype: int64>"
      ]
     },
     "execution_count": 6,
     "metadata": {},
     "output_type": "execute_result"
    }
   ],
   "source": [
    "df['Salary'].describe"
   ]
  },
  {
   "cell_type": "code",
   "execution_count": 7,
   "id": "070651ef-fa1f-463b-a0b9-38cb7d1bcef3",
   "metadata": {},
   "outputs": [
    {
     "data": {
      "text/html": [
       "<div>\n",
       "<style scoped>\n",
       "    .dataframe tbody tr th:only-of-type {\n",
       "        vertical-align: middle;\n",
       "    }\n",
       "\n",
       "    .dataframe tbody tr th {\n",
       "        vertical-align: top;\n",
       "    }\n",
       "\n",
       "    .dataframe thead th {\n",
       "        text-align: right;\n",
       "    }\n",
       "</style>\n",
       "<table border=\"1\" class=\"dataframe\">\n",
       "  <thead>\n",
       "    <tr style=\"text-align: right;\">\n",
       "      <th></th>\n",
       "      <th>Rating</th>\n",
       "      <th>Salary</th>\n",
       "      <th>Salaries Reported</th>\n",
       "    </tr>\n",
       "  </thead>\n",
       "  <tbody>\n",
       "    <tr>\n",
       "      <th>count</th>\n",
       "      <td>22770.000000</td>\n",
       "      <td>2.277000e+04</td>\n",
       "      <td>22770.000000</td>\n",
       "    </tr>\n",
       "    <tr>\n",
       "      <th>mean</th>\n",
       "      <td>3.918213</td>\n",
       "      <td>6.953872e+05</td>\n",
       "      <td>1.855775</td>\n",
       "    </tr>\n",
       "    <tr>\n",
       "      <th>std</th>\n",
       "      <td>0.519675</td>\n",
       "      <td>8.843990e+05</td>\n",
       "      <td>6.823668</td>\n",
       "    </tr>\n",
       "    <tr>\n",
       "      <th>min</th>\n",
       "      <td>1.000000</td>\n",
       "      <td>2.112000e+03</td>\n",
       "      <td>1.000000</td>\n",
       "    </tr>\n",
       "    <tr>\n",
       "      <th>25%</th>\n",
       "      <td>3.700000</td>\n",
       "      <td>3.000000e+05</td>\n",
       "      <td>1.000000</td>\n",
       "    </tr>\n",
       "    <tr>\n",
       "      <th>50%</th>\n",
       "      <td>3.900000</td>\n",
       "      <td>5.000000e+05</td>\n",
       "      <td>1.000000</td>\n",
       "    </tr>\n",
       "    <tr>\n",
       "      <th>75%</th>\n",
       "      <td>4.200000</td>\n",
       "      <td>9.000000e+05</td>\n",
       "      <td>1.000000</td>\n",
       "    </tr>\n",
       "    <tr>\n",
       "      <th>max</th>\n",
       "      <td>5.000000</td>\n",
       "      <td>9.000000e+07</td>\n",
       "      <td>361.000000</td>\n",
       "    </tr>\n",
       "  </tbody>\n",
       "</table>\n",
       "</div>"
      ],
      "text/plain": [
       "             Rating        Salary  Salaries Reported\n",
       "count  22770.000000  2.277000e+04       22770.000000\n",
       "mean       3.918213  6.953872e+05           1.855775\n",
       "std        0.519675  8.843990e+05           6.823668\n",
       "min        1.000000  2.112000e+03           1.000000\n",
       "25%        3.700000  3.000000e+05           1.000000\n",
       "50%        3.900000  5.000000e+05           1.000000\n",
       "75%        4.200000  9.000000e+05           1.000000\n",
       "max        5.000000  9.000000e+07         361.000000"
      ]
     },
     "execution_count": 7,
     "metadata": {},
     "output_type": "execute_result"
    }
   ],
   "source": [
    "df.describe()"
   ]
  },
  {
   "cell_type": "markdown",
   "id": "93579b10-3e0c-4f67-9a56-5ab5ab6a4567",
   "metadata": {},
   "source": [
    "## Data cleaning\n",
    "After reviewing the dataset, the only issue was the NaN value somewhere for the company name, so I will clean it up.\n",
    "As for data types, all of them are valid so there is no need to do anything else."
   ]
  },
  {
   "cell_type": "code",
   "execution_count": 8,
   "id": "4edfa970-ae28-4381-9995-582078082a74",
   "metadata": {},
   "outputs": [
    {
     "name": "stdout",
     "output_type": "stream",
     "text": [
      "<class 'pandas.core.frame.DataFrame'>\n",
      "Index: 22769 entries, 0 to 22769\n",
      "Data columns (total 8 columns):\n",
      " #   Column             Non-Null Count  Dtype  \n",
      "---  ------             --------------  -----  \n",
      " 0   Rating             22769 non-null  float64\n",
      " 1   Company Name       22769 non-null  object \n",
      " 2   Job Title          22769 non-null  object \n",
      " 3   Salary             22769 non-null  int64  \n",
      " 4   Salaries Reported  22769 non-null  int64  \n",
      " 5   Location           22769 non-null  object \n",
      " 6   Employment Status  22769 non-null  object \n",
      " 7   Job Roles          22769 non-null  object \n",
      "dtypes: float64(1), int64(2), object(5)\n",
      "memory usage: 1.6+ MB\n"
     ]
    }
   ],
   "source": [
    "# Removing the NaN value since there is one missing company name\n",
    "df = df.dropna()\n",
    "# Checking if everything is okay\n",
    "df.info()"
   ]
  },
  {
   "cell_type": "markdown",
   "id": "47a059d2-0379-4948-b8b7-dca5cb6ce1fd",
   "metadata": {},
   "source": [
    "# Exploratory Data Analysis (EDA)\n",
    "\n",
    "In this section, I will explore the dataset to identify trends, distributions, and possible relationships between variables such as Salary, Job Title, Location, and Company Rating.\n"
   ]
  },
  {
   "cell_type": "markdown",
   "id": "e1efa7e6-44a0-4479-b9b5-e00504752337",
   "metadata": {},
   "source": [
    "### What is the distribution for salaries in the whole dataset?\n",
    "I will plot a histogram to see how are salaries distributed on the whole data set."
   ]
  },
  {
   "cell_type": "code",
   "execution_count": null,
   "id": "7533d255-17f9-41b1-ba6b-3e6c8dc14426",
   "metadata": {},
   "outputs": [],
   "source": [
    "fig = plt.figure(figsize = (10,7))\n",
    "\n",
    "ax1 = fig.add_axes([0,0,1,1])"
   ]
  },
  {
   "cell_type": "code",
   "execution_count": null,
   "id": "37fe2c06-8491-4e45-9751-8c5db2d79639",
   "metadata": {},
   "outputs": [],
   "source": []
  },
  {
   "cell_type": "code",
   "execution_count": null,
   "id": "0176ab02-30fc-4ad2-be17-e4688f951faa",
   "metadata": {},
   "outputs": [],
   "source": []
  },
  {
   "cell_type": "code",
   "execution_count": null,
   "id": "cb80261c-a30c-4543-b868-9866ae5f5520",
   "metadata": {},
   "outputs": [],
   "source": []
  },
  {
   "cell_type": "code",
   "execution_count": null,
   "id": "e6b6537a-cab6-4ee9-adf5-379fb17b3604",
   "metadata": {},
   "outputs": [],
   "source": []
  },
  {
   "cell_type": "code",
   "execution_count": null,
   "id": "b6933fc0-8685-4dd3-961e-6dba81b951e1",
   "metadata": {},
   "outputs": [],
   "source": []
  },
  {
   "cell_type": "code",
   "execution_count": null,
   "id": "1ff0744a-5296-42d7-a269-6b5116d6712e",
   "metadata": {},
   "outputs": [],
   "source": []
  },
  {
   "cell_type": "code",
   "execution_count": null,
   "id": "b2cc45c9-b10e-4e44-9913-f13e503c4f73",
   "metadata": {},
   "outputs": [],
   "source": []
  },
  {
   "cell_type": "code",
   "execution_count": null,
   "id": "c3dbd611-5979-46a1-a81e-8c137563fc1c",
   "metadata": {},
   "outputs": [],
   "source": []
  },
  {
   "cell_type": "code",
   "execution_count": null,
   "id": "ea73bc8a-2e0a-4405-87a4-79fb5f99b19c",
   "metadata": {},
   "outputs": [],
   "source": []
  },
  {
   "cell_type": "code",
   "execution_count": null,
   "id": "1612353f-c9cb-4494-901f-ef801eaddd4a",
   "metadata": {},
   "outputs": [],
   "source": []
  },
  {
   "cell_type": "code",
   "execution_count": null,
   "id": "686f7691-736d-49cd-ac8c-d07d52af249b",
   "metadata": {},
   "outputs": [],
   "source": []
  },
  {
   "cell_type": "code",
   "execution_count": null,
   "id": "de609c10-ef2a-41b2-9ae9-9eefd732594a",
   "metadata": {},
   "outputs": [],
   "source": []
  }
 ],
 "metadata": {
  "kernelspec": {
   "display_name": "Python 3 (ipykernel)",
   "language": "python",
   "name": "python3"
  },
  "language_info": {
   "codemirror_mode": {
    "name": "ipython",
    "version": 3
   },
   "file_extension": ".py",
   "mimetype": "text/x-python",
   "name": "python",
   "nbconvert_exporter": "python",
   "pygments_lexer": "ipython3",
   "version": "3.12.0"
  }
 },
 "nbformat": 4,
 "nbformat_minor": 5
}
